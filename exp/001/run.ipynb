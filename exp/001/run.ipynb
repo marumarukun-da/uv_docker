{
 "cells": [
  {
   "cell_type": "code",
   "execution_count": 1,
   "metadata": {},
   "outputs": [
    {
     "name": "stdout",
     "output_type": "stream",
     "text": [
      "[1 2 3]\n",
      "319\n",
      "{'params': {'objective': 'regression', 'metric': 'rmse', 'verbosity': -1, 'boosting_type': 'gbdt', 'learning_rate': 0.01, 'num_leaves': 31, 'min_child_samples': 20, 'max_depth': -1, 'subsample_freq': 0, 'bagging_seed': 0, 'feature_fraction': 0.9, 'bagging_fraction': 0.9, 'reg_alpha': 0.1, 'reg_lambda': 0.1}, 'early_stopping_rounds': 500, 'log_evaluation_period': 100, 'num_boost_round': 100000}\n"
     ]
    }
   ],
   "source": [
    "import os\n",
    "import pickle\n",
    "from datetime import datetime\n",
    "\n",
    "import lightgbm as lgb\n",
    "import matplotlib.pyplot as plt\n",
    "import numpy as np\n",
    "import pandas as pd\n",
    "import polars as pl\n",
    "import seaborn as sns\n",
    "from sklearn.metrics import mean_squared_error\n",
    "from sklearn.model_selection import StratifiedKFold\n",
    "\n",
    "from src.config import cfg\n",
    "from src.dir import create_dir\n",
    "from src.seed import seed_everything\n",
    "\n",
    "seed_everything(cfg.seed)\n",
    "\n",
    "print(np.array([1, 2, 3]))\n",
    "print(cfg.seed)\n",
    "print(cfg.lgb)\n"
   ]
  },
  {
   "cell_type": "code",
   "execution_count": null,
   "metadata": {},
   "outputs": [],
   "source": [
    "# TODO: macで正常にuv syncとdockerコンテナ起動 → 入るまでできたらOK(特にtorch周りがうまくいくか検証！)\n"
   ]
  }
 ],
 "metadata": {
  "kernelspec": {
   "display_name": ".venv",
   "language": "python",
   "name": "python3"
  },
  "language_info": {
   "codemirror_mode": {
    "name": "ipython",
    "version": 3
   },
   "file_extension": ".py",
   "mimetype": "text/x-python",
   "name": "python",
   "nbconvert_exporter": "python",
   "pygments_lexer": "ipython3",
   "version": "3.12.3"
  }
 },
 "nbformat": 4,
 "nbformat_minor": 2
}
